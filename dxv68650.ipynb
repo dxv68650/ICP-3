{
  "nbformat": 4,
  "nbformat_minor": 0,
  "metadata": {
    "colab": {
      "provenance": []
    },
    "kernelspec": {
      "name": "python3",
      "display_name": "Python 3"
    },
    "language_info": {
      "name": "python"
    }
  },
  "cells": [
    {
      "cell_type": "markdown",
      "source": [
        "a.\tUsing NumPy create random vector of size 15 having only Integers in the range 1-20.\n",
        "1.\tReshape the array to 3 by 5\n",
        "2.\tPrint array shape.\n",
        "3.\tReplace the max in each row by 0\n",
        "Create a 2-dimensional array of size 4 x 3 (composed of 4-byte integer elements), also print the shape, type and data type of the array.\n",
        "\n"
      ],
      "metadata": {
        "id": "wK_5zxzMtxKq"
      }
    },
    {
      "cell_type": "code",
      "execution_count": 4,
      "metadata": {
        "colab": {
          "base_uri": "https://localhost:8080/"
        },
        "id": "BIS27RAFrVyn",
        "outputId": "54d39970-19d2-4e45-a9a8-cb2da8c4219b"
      },
      "outputs": [
        {
          "output_type": "stream",
          "name": "stdout",
          "text": [
            "Array shape: (3, 5)\n",
            "Array after replacing max in each row by 0:\n",
            "[[ 0  7  5  5 12]\n",
            " [ 1  6  3  3  0]\n",
            " [ 3  0  6  3 12]]\n",
            "\n",
            "Shape of the array: (4, 3)\n",
            "Type of the array: <class 'numpy.ndarray'>\n",
            "Data type of the array: int32\n"
          ]
        }
      ],
      "source": [
        "import numpy as np\n",
        "\n",
        "# Create random vector of size 15 with integers in the range 1-20\n",
        "random_vector = np.random.randint(1, 21, size=15)\n",
        "\n",
        "# Reshape the array to 3 by 5\n",
        "reshaped_array = random_vector.reshape(3, 5)\n",
        "\n",
        "# Print array shape\n",
        "print(\"Array shape:\", reshaped_array.shape)\n",
        "\n",
        "# Replace the max in each row by 0\n",
        "reshaped_array[np.arange(len(reshaped_array)), np.argmax(reshaped_array, axis=1)] = 0\n",
        "\n",
        "print(\"Array after replacing max in each row by 0:\")\n",
        "print(reshaped_array)\n",
        "\n",
        "# Create a 2-dimensional array of size 4 x 3 with 4-byte integer elements\n",
        "array_4x3 = np.random.randint(0, 1000, size=(4, 3), dtype=np.int32)\n",
        "\n",
        "# Print shape, type, and data type of the array\n",
        "print(\"\\nShape of the array:\", array_4x3.shape)\n",
        "print(\"Type of the array:\", type(array_4x3))\n",
        "print(\"Data type of the array:\", array_4x3.dtype)"
      ]
    },
    {
      "cell_type": "markdown",
      "source": [
        "b.\tWrite a program to compute the eigenvalues and right eigenvectors of a given square array given below:\n",
        "[[3, -2],\n",
        "[1,  0]]"
      ],
      "metadata": {
        "id": "UwGQXn6-t2zy"
      }
    },
    {
      "cell_type": "code",
      "source": [
        "import numpy as np\n",
        "\n",
        "# Define the square array\n",
        "array = np.array([[3, -2],\n",
        "                  [1, 0]])\n",
        "\n",
        "# Compute eigenvalues and eigenvectors\n",
        "eigenvalues, eigenvectors = np.linalg.eig(array)\n",
        "\n",
        "# Print the eigenvalues and right eigenvectors\n",
        "print(\"Eigenvalues:\")\n",
        "print(eigenvalues)\n",
        "print(\"\\nRight Eigenvectors:\")\n",
        "print(eigenvectors)"
      ],
      "metadata": {
        "colab": {
          "base_uri": "https://localhost:8080/"
        },
        "id": "szm-7szZuRi7",
        "outputId": "754fd9ee-abb3-4cf2-e0b6-bfa29013f34a"
      },
      "execution_count": 2,
      "outputs": [
        {
          "output_type": "stream",
          "name": "stdout",
          "text": [
            "Eigenvalues:\n",
            "[2. 1.]\n",
            "\n",
            "Right Eigenvectors:\n",
            "[[0.89442719 0.70710678]\n",
            " [0.4472136  0.70710678]]\n"
          ]
        }
      ]
    },
    {
      "cell_type": "markdown",
      "source": [
        "c.\tCompute the sum of the diagonal element of a given array."
      ],
      "metadata": {
        "id": "dLAF7G0YuemV"
      }
    },
    {
      "cell_type": "code",
      "source": [
        "import numpy as np\n",
        "\n",
        "# Define the array\n",
        "array = np.array([[0, 1, 2],\n",
        "                  [3, 4, 5]])\n",
        "\n",
        "# Compute the sum of diagonal elements\n",
        "diagonal_sum = np.trace(array)\n",
        "\n",
        "# Print the sum\n",
        "print(\"Sum of diagonal elements:\", diagonal_sum)"
      ],
      "metadata": {
        "colab": {
          "base_uri": "https://localhost:8080/"
        },
        "id": "AqLNTYkLufB4",
        "outputId": "a36f65db-1efe-4c86-dc7d-03e9eb638944"
      },
      "execution_count": 3,
      "outputs": [
        {
          "output_type": "stream",
          "name": "stdout",
          "text": [
            "Sum of diagonal elements: 4\n"
          ]
        }
      ]
    },
    {
      "cell_type": "markdown",
      "source": [
        "d.\tWrite a NumPy program to create a new shape to an array without changing its data.\n",
        "Reshape 3x2.\n",
        "Reshape 2x3:\n"
      ],
      "metadata": {
        "id": "aRETQnUjuwgV"
      }
    },
    {
      "cell_type": "code",
      "source": [
        "import numpy as np\n",
        "\n",
        "# Define the original array\n",
        "original_array = np.array([[1, 2, 3],\n",
        "                           [4, 5, 6]])\n",
        "\n",
        "# Reshape to 3x2\n",
        "reshaped_array_3x2 = original_array.reshape(3, 2)\n",
        "print(\"Reshaped array to 3x2:\")\n",
        "print(reshaped_array_3x2)\n",
        "\n",
        "# Reshape to 2x3\n",
        "reshaped_array_2x3 = original_array.reshape(2, 3)\n",
        "print(\"Reshaped array to 2x3:\")\n",
        "print(reshaped_array_2x3)\n"
      ],
      "metadata": {
        "colab": {
          "base_uri": "https://localhost:8080/"
        },
        "id": "XECAnpi0vIyy",
        "outputId": "44f4d3d4-88f2-4863-d0ad-74ea2f0e7068"
      },
      "execution_count": null,
      "outputs": [
        {
          "output_type": "stream",
          "name": "stdout",
          "text": [
            "Reshaped array to 3x2:\n",
            "[[1 2]\n",
            " [3 4]\n",
            " [5 6]]\n",
            "Reshaped array to 2x3:\n",
            "[[1 2 3]\n",
            " [4 5 6]]\n"
          ]
        }
      ]
    }
  ]
}